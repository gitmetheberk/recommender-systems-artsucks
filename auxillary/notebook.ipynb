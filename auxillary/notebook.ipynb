{
 "cells": [
  {
   "cell_type": "markdown",
   "source": [
    "# Recommender System\n",
    "Read in the data."
   ],
   "metadata": {
    "collapsed": false,
    "pycharm": {
     "name": "#%% md\n"
    }
   }
  },
  {
   "cell_type": "code",
   "execution_count": 29,
   "metadata": {
    "collapsed": true
   },
   "outputs": [
    {
     "data": {
      "text/plain": "          0         1         2         3         4         5         6  \\\n0  0.317651  0.588484  0.734532  0.000000  0.000000  0.000000  0.000000   \n1  0.876346  0.003836  0.000000  0.000000  0.014527  0.000000  0.033951   \n2  0.000000  0.000000  0.000000  0.000000  0.000000  2.784533  0.000000   \n3  0.021457  1.689611  0.000000  0.745829  0.000000  0.519452  0.000000   \n4  0.523536  0.000000  0.000000  0.000000  0.000000  0.000000  0.146831   \n\n          7         8         9  ...      2038      2039      2040  2041  \\\n0  0.000000  1.635034  0.529136  ...  0.012182  0.435283  0.234793   0.0   \n1  0.000000  0.083843  0.686140  ...  0.000000  0.427031  0.000000   0.0   \n2  0.000000  0.000000  0.708970  ...  0.642855  1.964759  1.939867   0.0   \n3  0.765993  0.000000  0.000000  ...  0.961703  1.618219  0.177426   0.0   \n4  0.000000  1.153440  0.360616  ...  0.000000  0.000000  0.413590   0.0   \n\n       2042     2043      2044      2045      2046      2047  \n0  0.000000  0.36646  0.393030  1.197851  1.220937  3.171708  \n1  0.000000  0.00000  0.000000  0.000000  0.000000  0.195149  \n2  0.000000  0.00000  0.000000  1.791351  0.700842  0.000000  \n3  1.644428  0.00000  1.327781  0.920276  0.730517  2.443821  \n4  0.320506  0.00000  1.930118  1.061933  0.000000  0.172906  \n\n[5 rows x 2048 columns]",
      "text/html": "<div>\n<style scoped>\n    .dataframe tbody tr th:only-of-type {\n        vertical-align: middle;\n    }\n\n    .dataframe tbody tr th {\n        vertical-align: top;\n    }\n\n    .dataframe thead th {\n        text-align: right;\n    }\n</style>\n<table border=\"1\" class=\"dataframe\">\n  <thead>\n    <tr style=\"text-align: right;\">\n      <th></th>\n      <th>0</th>\n      <th>1</th>\n      <th>2</th>\n      <th>3</th>\n      <th>4</th>\n      <th>5</th>\n      <th>6</th>\n      <th>7</th>\n      <th>8</th>\n      <th>9</th>\n      <th>...</th>\n      <th>2038</th>\n      <th>2039</th>\n      <th>2040</th>\n      <th>2041</th>\n      <th>2042</th>\n      <th>2043</th>\n      <th>2044</th>\n      <th>2045</th>\n      <th>2046</th>\n      <th>2047</th>\n    </tr>\n  </thead>\n  <tbody>\n    <tr>\n      <th>0</th>\n      <td>0.317651</td>\n      <td>0.588484</td>\n      <td>0.734532</td>\n      <td>0.000000</td>\n      <td>0.000000</td>\n      <td>0.000000</td>\n      <td>0.000000</td>\n      <td>0.000000</td>\n      <td>1.635034</td>\n      <td>0.529136</td>\n      <td>...</td>\n      <td>0.012182</td>\n      <td>0.435283</td>\n      <td>0.234793</td>\n      <td>0.0</td>\n      <td>0.000000</td>\n      <td>0.36646</td>\n      <td>0.393030</td>\n      <td>1.197851</td>\n      <td>1.220937</td>\n      <td>3.171708</td>\n    </tr>\n    <tr>\n      <th>1</th>\n      <td>0.876346</td>\n      <td>0.003836</td>\n      <td>0.000000</td>\n      <td>0.000000</td>\n      <td>0.014527</td>\n      <td>0.000000</td>\n      <td>0.033951</td>\n      <td>0.000000</td>\n      <td>0.083843</td>\n      <td>0.686140</td>\n      <td>...</td>\n      <td>0.000000</td>\n      <td>0.427031</td>\n      <td>0.000000</td>\n      <td>0.0</td>\n      <td>0.000000</td>\n      <td>0.00000</td>\n      <td>0.000000</td>\n      <td>0.000000</td>\n      <td>0.000000</td>\n      <td>0.195149</td>\n    </tr>\n    <tr>\n      <th>2</th>\n      <td>0.000000</td>\n      <td>0.000000</td>\n      <td>0.000000</td>\n      <td>0.000000</td>\n      <td>0.000000</td>\n      <td>2.784533</td>\n      <td>0.000000</td>\n      <td>0.000000</td>\n      <td>0.000000</td>\n      <td>0.708970</td>\n      <td>...</td>\n      <td>0.642855</td>\n      <td>1.964759</td>\n      <td>1.939867</td>\n      <td>0.0</td>\n      <td>0.000000</td>\n      <td>0.00000</td>\n      <td>0.000000</td>\n      <td>1.791351</td>\n      <td>0.700842</td>\n      <td>0.000000</td>\n    </tr>\n    <tr>\n      <th>3</th>\n      <td>0.021457</td>\n      <td>1.689611</td>\n      <td>0.000000</td>\n      <td>0.745829</td>\n      <td>0.000000</td>\n      <td>0.519452</td>\n      <td>0.000000</td>\n      <td>0.765993</td>\n      <td>0.000000</td>\n      <td>0.000000</td>\n      <td>...</td>\n      <td>0.961703</td>\n      <td>1.618219</td>\n      <td>0.177426</td>\n      <td>0.0</td>\n      <td>1.644428</td>\n      <td>0.00000</td>\n      <td>1.327781</td>\n      <td>0.920276</td>\n      <td>0.730517</td>\n      <td>2.443821</td>\n    </tr>\n    <tr>\n      <th>4</th>\n      <td>0.523536</td>\n      <td>0.000000</td>\n      <td>0.000000</td>\n      <td>0.000000</td>\n      <td>0.000000</td>\n      <td>0.000000</td>\n      <td>0.146831</td>\n      <td>0.000000</td>\n      <td>1.153440</td>\n      <td>0.360616</td>\n      <td>...</td>\n      <td>0.000000</td>\n      <td>0.000000</td>\n      <td>0.413590</td>\n      <td>0.0</td>\n      <td>0.320506</td>\n      <td>0.00000</td>\n      <td>1.930118</td>\n      <td>1.061933</td>\n      <td>0.000000</td>\n      <td>0.172906</td>\n    </tr>\n  </tbody>\n</table>\n<p>5 rows × 2048 columns</p>\n</div>"
     },
     "execution_count": 29,
     "metadata": {},
     "output_type": "execute_result"
    }
   ],
   "source": [
    "import pandas as pd\n",
    "import numpy as np\n",
    "\n",
    "data_df = pd.read_csv('./train_art_features.csv')\n",
    "data_df.head()"
   ]
  },
  {
   "cell_type": "markdown",
   "source": [
    "### Train-test split the data, and generate the two `(num_art, num_features)` \"ratings\" matricies."
   ],
   "metadata": {
    "collapsed": false,
    "pycharm": {
     "name": "#%% md\n"
    }
   }
  },
  {
   "cell_type": "code",
   "execution_count": 30,
   "outputs": [
    {
     "name": "stdout",
     "output_type": "stream",
     "text": [
      "[[0.31765118 0.5884839  0.7345319  ... 1.1978512  1.2209369  3.1717079 ]\n",
      " [0.8763461  0.00383636 0.         ... 0.         0.         0.19514911]\n",
      " [0.         0.         0.         ... 1.7913507  0.70084167 0.        ]\n",
      " ...\n",
      " [0.5443084  0.         0.         ... 0.         0.9720184  0.6643692 ]\n",
      " [0.         0.40954348 0.         ... 0.         0.         0.25679904]\n",
      " [0.4958547  0.49603662 0.         ... 0.15636368 0.         0.        ]]\n",
      "[[0. 0. 0. ... 0. 0. 0.]\n",
      " [0. 0. 0. ... 0. 0. 0.]\n",
      " [0. 0. 0. ... 0. 0. 0.]\n",
      " ...\n",
      " [0. 0. 0. ... 0. 0. 0.]\n",
      " [0. 0. 0. ... 0. 0. 0.]\n",
      " [0. 0. 0. ... 0. 0. 0.]]\n",
      "True\n"
     ]
    }
   ],
   "source": [
    "data = data_df.to_numpy()\n",
    "\n",
    "#https://www.ethanrosenthal.com/2015/11/02/intro-to-collaborative-filtering/\n",
    "test = np.zeros(data.shape)\n",
    "train = data.copy()\n",
    "for user in range(data.shape[0]):\n",
    "    test_ratings = np.random.choice(data[user, :].nonzero()[0],\n",
    "                                    size=10,\n",
    "                                    replace=False)\n",
    "    train[user, test_ratings] = 0.\n",
    "    test[user, test_ratings] = data_df.iloc[user, test_ratings]\n",
    "\n",
    "print(train)\n",
    "print(test)\n",
    "print(np.all((train * test) == 0))\n",
    "\n",
    "# generate train_mat and test_mat\n",
    "num_art = 6924\n",
    "num_features = 2048\n",
    "\n",
    "train_mat = train\n",
    "test_mat = test"
   ],
   "metadata": {
    "collapsed": false,
    "pycharm": {
     "name": "#%%\n"
    }
   }
  },
  {
   "cell_type": "markdown",
   "source": [
    "Cool, it randomly grabs 10 entries from train_mat and puts them into test_mat. And the dot product is zero, so we know we're good.\n",
    "\n",
    "### Run Baseline Estimate, print RMSE."
   ],
   "metadata": {
    "collapsed": false,
    "pycharm": {
     "name": "#%% md\n"
    }
   }
  },
  {
   "cell_type": "code",
   "execution_count": 31,
   "outputs": [
    {
     "name": "stdout",
     "output_type": "stream",
     "text": [
      "test_rmse =  0.4765302457042466\n",
      "train_rmse =  0.5541170480751484\n"
     ]
    }
   ],
   "source": [
    "indicator_mat = (train_mat > 0).astype(float)\n",
    "mu = np.sum(train_mat) / np.sum(indicator_mat)\n",
    "\n",
    "num_rating_items = np.sum(indicator_mat, axis=0, keepdims=True)\n",
    "num_rating_items[num_rating_items == 0] = 1\n",
    "mu_items = np.sum(train_mat, axis=0, keepdims=True) / num_rating_items\n",
    "mu_items[mu_items == 0] = mu\n",
    "\n",
    "num_rating_users = np.sum(indicator_mat, axis=1, keepdims=True)\n",
    "num_rating_users[num_rating_users == 0] = 1\n",
    "mu_users = np.sum(train_mat, axis=1, keepdims=True) / num_rating_users\n",
    "mu_users[mu_users == 0] = mu\n",
    "bi = mu_items - mu\n",
    "bu = mu_users - mu\n",
    "prediction_mat = np.ones_like(train_mat)\n",
    "prediction_mat = mu + bi + bu\n",
    "\n",
    "indicator_mat = (test_mat > 0).astype(float)\n",
    "test_rmse = (np.sum(((prediction_mat - test_mat) * indicator_mat) ** 2) / np.sum(indicator_mat)) ** 0.5\n",
    "print('test_rmse = ', test_rmse)\n",
    "train_rmse = (np.sum(((prediction_mat - train_mat) * indicator_mat) ** 2) / np.sum(indicator_mat)) ** 0.5\n",
    "print('train_rmse = ', train_rmse)"
   ],
   "metadata": {
    "collapsed": false,
    "pycharm": {
     "name": "#%%\n"
    }
   }
  },
  {
   "cell_type": "markdown",
   "source": [
    "These values are close, and because train_rmse $>$ test_rmse, we know we're still underfitting, so that's good, there's room for improvement.\n",
    "### Run User-User Collaborative Filtering with Jaccard Similarity, print RMSE."
   ],
   "metadata": {
    "collapsed": false,
    "pycharm": {
     "name": "#%% md\n"
    }
   }
  },
  {
   "cell_type": "code",
   "execution_count": 32,
   "outputs": [
    {
     "name": "stdout",
     "output_type": "stream",
     "text": [
      "test_rmse =  0.4598470515052233\n",
      "train_rmse =  0.5995344883230586\n"
     ]
    }
   ],
   "source": [
    "# binary matrix to indicate whether there is a rating for a user-movie pair\n",
    "indicator_mat = (train_mat > 0).astype(float)  # size = (#user, #movie)\n",
    "\n",
    "# calculate the number of ratings for each user\n",
    "num_rating_per_user = np.sum(indicator_mat, axis=1, keepdims=True)  # size = (#user, 1)\n",
    "\n",
    "# calculate the numerator of Jaccard similarity: for two users, calculate the number of movies both of they rated\n",
    "numerator = np.matmul(indicator_mat, indicator_mat.T)  # size = (#user, #user)\n",
    "\n",
    "# calculate the denominator of Jaccard similarity: for two users, calculate the number of movies they rated in total\n",
    "denominator = num_rating_per_user + num_rating_per_user.T - numerator  # size = (#user, #user)\n",
    "\n",
    "# set 0 to be 1 to avoid error in division\n",
    "denominator[denominator == 0] = 1\n",
    "\n",
    "# calculate Jaccard similarity matrix\n",
    "Jaccard_mat = numerator / denominator  # size = (#user, #user)\n",
    "\n",
    "prediction_mat = train_mat.copy()\n",
    "\n",
    "num_rating_users[num_rating_users == 0] = 1\n",
    "mu_users = np.sum(train_mat, axis=1, keepdims=True) / num_rating_users\n",
    "deviation_mat = (train_mat - mu_users) * indicator_mat\n",
    "for u in range(num_art):\n",
    "    similarities = Jaccard_mat[u, :]\n",
    "    similarities[u] = -1\n",
    "    N_idx = np.argpartition(similarities, -10)[-10:]\n",
    "    N_sim = similarities[N_idx]\n",
    "    prediction_mat[u, :] = np.sum(N_sim.reshape((-1, 1)) * deviation_mat[N_idx, :], axis=0) / np.sum(N_sim)\n",
    "prediction_mat += mu_users\n",
    "\n",
    "indicator_mat = (test_mat > 0).astype(float)\n",
    "test_rmse = (np.sum(((prediction_mat - test_mat) * indicator_mat) ** 2) / np.sum(indicator_mat)) ** 0.5\n",
    "print('test_rmse = ', test_rmse)\n",
    "train_rmse = (np.sum(((prediction_mat - train_mat) * indicator_mat) ** 2) / np.sum(indicator_mat)) ** 0.5\n",
    "print('train_rmse = ', train_rmse)"
   ],
   "metadata": {
    "collapsed": false,
    "pycharm": {
     "name": "#%%\n"
    }
   }
  },
  {
   "cell_type": "markdown",
   "source": [
    "Same deal here.\n",
    "### Run Implicit User-User Collaborative Filtering for 10NN with Jaccard Similarity, print Precision@k and Recall@k for Top 50 List."
   ],
   "metadata": {
    "collapsed": false,
    "pycharm": {
     "name": "#%% md\n"
    }
   }
  },
  {
   "cell_type": "code",
   "execution_count": 34,
   "outputs": [
    {
     "name": "stdout",
     "output_type": "stream",
     "text": [
      "recall@5\t[0.069295],\t||\t recall@20\t[0.159763],\t||\t recall@50\t[0.266566]\n",
      "precision@5\t[0.138590],\t||\t precision@20\t[0.079882],\t||\t precision@50\t[0.053313]\n"
     ]
    }
   ],
   "source": [
    "train_mat = (train_mat > 0).astype(float)\n",
    "test_mat = (test_mat > 0).astype(float)\n",
    "\n",
    "user_train_like = []\n",
    "for u in range(num_art):\n",
    "    user_train_like.append(np.where(train_mat[u, :] > 0)[0])\n",
    "\n",
    "numer = np.matmul(train_mat, train_mat.T)\n",
    "denom = np.sum(train_mat ** 2, axis=1, keepdims=True) ** 0.5\n",
    "Cosine = numer / np.matmul(denom, denom.T)\n",
    "\n",
    "recommendation = []\n",
    "for u in range(num_art):\n",
    "    similarities = Jaccard_mat[u, :]\n",
    "    similarities[u] = -1\n",
    "    N_idx = np.argpartition(similarities, -10)[-10:]\n",
    "    N_sim = similarities[N_idx]\n",
    "    scores = np.sum(N_sim.reshape((-1, 1)) * train_mat[N_idx, :], axis=0) / np.sum(N_sim)\n",
    "\n",
    "    train_like = user_train_like[u]\n",
    "    scores[train_like] = -9999\n",
    "    top50_iid = np.argpartition(scores, -50)[-50:]\n",
    "    top50_iid = top50_iid[np.argsort(scores[top50_iid])[-1::-1]]\n",
    "    recommendation.append(top50_iid)\n",
    "recommendation = np.array(recommendation)\n",
    "\n",
    "user_test_like = []\n",
    "for u in range(num_art):\n",
    "    user_test_like.append(np.where(test_mat[u, :] > 0)[0])\n",
    "\n",
    "recalls = np.zeros(3)\n",
    "precisions = np.zeros(3)\n",
    "user_count = 0.\n",
    "\n",
    "for u in range(num_art):\n",
    "    test_like = user_test_like[u]\n",
    "    test_like_num = len(test_like)\n",
    "    if test_like_num == 0:\n",
    "        continue\n",
    "    rec = recommendation[u, :]\n",
    "    hits = np.zeros(3)\n",
    "    for k in range(50):\n",
    "        if rec[k] in test_like:\n",
    "            if k < 50:\n",
    "                hits[2] += 1\n",
    "                if k < 20:\n",
    "                    hits[1] += 1\n",
    "                    if k < 5:\n",
    "                        hits[0] += 1\n",
    "    recalls[0] += (hits[0] / test_like_num)\n",
    "    recalls[1] += (hits[1] / test_like_num)\n",
    "    recalls[2] += (hits[2] / test_like_num)\n",
    "    precisions[0] += (hits[0] / 5.)\n",
    "    precisions[1] += (hits[1] / 20.)\n",
    "    precisions[2] += (hits[2] / 50.)\n",
    "    user_count += 1\n",
    "\n",
    "recalls /= user_count\n",
    "precisions /= user_count\n",
    "\n",
    "print('recall@5\\t[%.6f],\\t||\\t recall@20\\t[%.6f],\\t||\\t recall@50\\t[%.6f]' % (recalls[0], recalls[1], recalls[2]))\n",
    "print('precision@5\\t[%.6f],\\t||\\t precision@20\\t[%.6f],\\t||\\t precision@50\\t[%.6f]' % (precisions[0], precisions[1], precisions[2]))"
   ],
   "metadata": {
    "collapsed": false,
    "pycharm": {
     "name": "#%%\n"
    }
   }
  },
  {
   "cell_type": "markdown",
   "source": [
    "Recall@k is going up, Precision@k is going down. @50 we're recalling ~0.25ish relevant information. Looks like a good start.\n",
    "\n"
   ],
   "metadata": {
    "collapsed": false,
    "pycharm": {
     "name": "#%% md\n"
    }
   }
  }
 ],
 "metadata": {
  "kernelspec": {
   "display_name": "Python 3",
   "language": "python",
   "name": "python3"
  },
  "language_info": {
   "codemirror_mode": {
    "name": "ipython",
    "version": 2
   },
   "file_extension": ".py",
   "mimetype": "text/x-python",
   "name": "python",
   "nbconvert_exporter": "python",
   "pygments_lexer": "ipython2",
   "version": "2.7.6"
  }
 },
 "nbformat": 4,
 "nbformat_minor": 0
}